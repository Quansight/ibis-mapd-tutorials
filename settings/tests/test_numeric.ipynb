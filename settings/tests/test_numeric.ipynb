{
 "cells": [
  {
   "cell_type": "markdown",
   "metadata": {},
   "source": [
    "# Ibis MapD Backend - Test Numeric"
   ]
  },
  {
   "cell_type": "code",
   "execution_count": 1,
   "metadata": {},
   "outputs": [],
   "source": [
    "from ibis import literal as L\n",
    "from ibis.tests.backends import MapD\n",
    "\n",
    "import ibis\n",
    "import math\n",
    "import numpy as np\n",
    "\n",
    "ibis.options.interactive = False"
   ]
  },
  {
   "cell_type": "code",
   "execution_count": 2,
   "metadata": {},
   "outputs": [],
   "source": [
    "mapd_cli = ibis.mapd.connect(\n",
    "    host='localhost', user='mapd', password='HyperInteractive',\n",
    "    port=9091, database='ibis_testing'\n",
    ")\n",
    "backend = MapD(None)"
   ]
  },
  {
   "cell_type": "code",
   "execution_count": 3,
   "metadata": {},
   "outputs": [],
   "source": [
    "def param(ibis_fn, pandas_fn, id, skip=False):\n",
    "    if skip:\n",
    "        return None, None, None\n",
    "    return ibis_fn, pandas_fn, id"
   ]
  },
  {
   "cell_type": "code",
   "execution_count": 4,
   "metadata": {},
   "outputs": [],
   "source": [
    "alltypes = mapd_cli.database().functional_alltypes\n",
    "df = alltypes.execute()"
   ]
  },
  {
   "cell_type": "code",
   "execution_count": 5,
   "metadata": {},
   "outputs": [],
   "source": [
    "tests_1_operand = (\n",
    "    param(lambda t: t.float_col,\n",
    "          lambda t: t.float_col,\n",
    "          id='float-column-isinf'),\n",
    "    param(lambda t: t.double_col,\n",
    "          lambda t: t.double_col,\n",
    "          id='double-column'),\n",
    "    param(lambda t: ibis.literal(1.3),\n",
    "          lambda t: 1.3,\n",
    "          id='float-literal'),  # strange fail on Postgres\n",
    "    param(lambda t: ibis.literal(np.nan),\n",
    "          lambda t: np.nan,\n",
    "          id='nan-literal'),\n",
    "    param(lambda t: ibis.literal(np.inf),\n",
    "          lambda t: np.inf,\n",
    "          id='inf-literal'),\n",
    "    param(lambda t: ibis.literal(-np.inf),\n",
    "          lambda t: -np.inf,\n",
    "          id='-inf-literal')\n",
    ")\n",
    "\n",
    "tests_1_expr = (\n",
    "    param(lambda o: o.isnan(), lambda o: np.isnan(o), id='isnan'),\n",
    "    param(lambda o: o.isinf(), lambda o: np.isinf(o), id='isinf')\n",
    ")"
   ]
  },
  {
   "cell_type": "code",
   "execution_count": 6,
   "metadata": {},
   "outputs": [
    {
     "name": "stdout",
     "output_type": "stream",
     "text": [
      "float-column-isinf-isnan ... UnsupportedOperationError\n",
      "float-column-isinf-isinf ... UnsupportedOperationError\n",
      "double-column-isnan ... UnsupportedOperationError\n",
      "double-column-isinf ... UnsupportedOperationError\n",
      "float-literal-isnan ... UnsupportedOperationError\n",
      "float-literal-isinf ... UnsupportedOperationError\n",
      "nan-literal-isnan ... UnsupportedOperationError\n",
      "nan-literal-isinf ... UnsupportedOperationError\n",
      "inf-literal-isnan ... UnsupportedOperationError\n",
      "inf-literal-isinf ... UnsupportedOperationError\n",
      "-inf-literal-isnan ... UnsupportedOperationError\n",
      "-inf-literal-isinf ... UnsupportedOperationError\n"
     ]
    }
   ],
   "source": [
    "for operand_fn, expected_operand_fn, id_test_operand in tests_1_operand:\n",
    "    for expr_fn, expected_expr_fn, id_test_expr in tests_1_expr:\n",
    "        if operand_fn is None or expr_fn is None:\n",
    "            continue\n",
    "        print('{}-{} ... '.format(id_test_operand, id_test_expr), end='')\n",
    "        \n",
    "        try:\n",
    "            expr = expr_fn(operand_fn(alltypes))\n",
    "            expected = expected_expr_fn(expected_operand_fn(df))\n",
    "\n",
    "            result = mapd_cli.execute(expr)\n",
    "\n",
    "            if isinstance(expected, pd.Series):\n",
    "                expected = backend.default_series_rename(expected)\n",
    "                backend.assert_series_equal(result, expected)\n",
    "            else:\n",
    "                assert result == expected\n",
    "            print('OK!')\n",
    "        except ibis.common.UnsupportedOperationError as e:\n",
    "            print('UnsupportedOperationError')"
   ]
  },
  {
   "cell_type": "code",
   "execution_count": 7,
   "metadata": {},
   "outputs": [],
   "source": [
    "test_2 = (\n",
    "    param(L(-5).abs(), 5, id='L(-5).abs()'),\n",
    "    param(L(5).abs(), 5, id='L(5).abs()'),\n",
    "    param(ibis.least(L(10), L(1)), 1, id='ibis.least(L(10), L(1))'),\n",
    "    param(ibis.greatest(L(10), L(1)), 10, id='ibis.greatest(L(10), L(1))'),\n",
    "    param(L(5.5).round(), 6.0, id='L(5.5).round()'),\n",
    "    param(L(5.556).round(2), 5.56, id='L(5.556).round(2)'),\n",
    "    param(L(5.556).ceil(), 6.0, id='L(5.556).ceil()'),\n",
    "    param(L(5.556).floor(), 5.0, id='L(5.556).floor()'),\n",
    "    param(L(5.556).exp(), math.exp(5.556), id='L(5.556).exp()'),\n",
    "    param(L(5.556).sign(), 1, id='L(5.556).sign()'),\n",
    "    param(L(-5.556).sign(), -1, id='L(-5.556).sign()'),\n",
    "    param(L(0).sign(), 0, id='L(0).sign()'),\n",
    "    param(L(5.556).sqrt(), math.sqrt(5.556), id='L(5.556).sqrt()'),\n",
    "    param(L(5.556).log(2), math.log(5.556, 2), id='L(5.556).log(2)'),\n",
    "    param(L(5.556).ln(), math.log(5.556), id='L(5.556).ln()'),\n",
    "    param(L(5.556).log2(), math.log(5.556, 2), id='L(5.556).log2()'),\n",
    "    param(L(5.556).log10(), math.log10(5.556), id='L(5.556).log10()'),\n",
    "    param(L(11) % 3, 11 % 3, id='L(11) % 3')\n",
    ")"
   ]
  },
  {
   "cell_type": "code",
   "execution_count": 8,
   "metadata": {},
   "outputs": [
    {
     "name": "stdout",
     "output_type": "stream",
     "text": [
      "L(-5).abs() ... Exception: Non-empty LogicalValues not supported yet: SELECT abs(-5) AS tmp\n",
      "L(5).abs() ... Exception: Non-empty LogicalValues not supported yet: SELECT abs(5) AS tmp\n",
      "ibis.least(L(10), L(1)) ... UnsupportedOperationError\n",
      "ibis.greatest(L(10), L(1)) ... UnsupportedOperationError\n",
      "L(5.5).round() ... Exception: Non-empty LogicalValues not supported yet: SELECT round(5.5) AS tmp\n",
      "L(5.556).round(2) ... Exception: Non-empty LogicalValues not supported yet: SELECT round(5.556, 2) AS tmp\n",
      "L(5.556).ceil() ... Exception: Non-empty LogicalValues not supported yet: SELECT ceil(5.556) AS tmp\n",
      "L(5.556).floor() ... Exception: Non-empty LogicalValues not supported yet: SELECT floor(5.556) AS tmp\n",
      "L(5.556).exp() ... Exception: Non-empty LogicalValues not supported yet: SELECT exp(5.556) AS tmp\n",
      "L(5.556).sign() ... Exception: Non-empty LogicalValues not supported yet: SELECT sign(5.556) AS tmp\n",
      "L(-5.556).sign() ... Exception: Non-empty LogicalValues not supported yet: SELECT sign(-5.556) AS tmp\n",
      "L(0).sign() ... Exception: Non-empty LogicalValues not supported yet: SELECT sign(0) AS tmp\n",
      "L(5.556).sqrt() ... Exception: Non-empty LogicalValues not supported yet: SELECT sqrt(5.556) AS tmp\n",
      "L(5.556).log(2) ... UnsupportedOperationError\n",
      "L(5.556).ln() ... Exception: Non-empty LogicalValues not supported yet: SELECT ln(5.556) AS tmp\n",
      "L(5.556).log2() ... UnsupportedOperationError\n",
      "L(5.556).log10() ... Exception: Non-empty LogicalValues not supported yet: SELECT log10(5.556) AS tmp\n",
      "L(11) % 3 ... Exception: Non-empty LogicalValues not supported yet: SELECT mod(11, 3) AS tmp\n"
     ]
    }
   ],
   "source": [
    "for expr, expected, id_test in test_2:\n",
    "    if expr is None:\n",
    "        continue\n",
    "        \n",
    "    print('{} ... '.format(id_test), end='')\n",
    "\n",
    "    try:\n",
    "        result = mapd_cli.execute(expr)\n",
    "\n",
    "        if isinstance(result, decimal.Decimal):\n",
    "            # in case of Impala the result is decimal\n",
    "            # >>> decimal.Decimal('5.56') == 5.56\n",
    "            # False\n",
    "            assert result == decimal.Decimal(str(expected))\n",
    "        else:\n",
    "            assert result == expected\n",
    "        print('OK!')\n",
    "    except ibis.common.UnsupportedOperationError as e:\n",
    "        print('UnsupportedOperationError')\n",
    "    except Exception as e:\n",
    "        print(e)"
   ]
  }
 ],
 "metadata": {
  "kernelspec": {
   "display_name": "Python 3",
   "language": "python",
   "name": "python3"
  },
  "language_info": {
   "codemirror_mode": {
    "name": "ipython",
    "version": 3
   },
   "file_extension": ".py",
   "mimetype": "text/x-python",
   "name": "python",
   "nbconvert_exporter": "python",
   "pygments_lexer": "ipython3",
   "version": "3.6.5"
  }
 },
 "nbformat": 4,
 "nbformat_minor": 2
}
