{
 "cells": [
  {
   "cell_type": "markdown",
   "metadata": {},
   "source": [
    "# Ibis MapD Backend - Test Numeric"
   ]
  },
  {
   "cell_type": "code",
   "execution_count": 1,
   "metadata": {},
   "outputs": [],
   "source": [
    "from ibis import literal as L\n",
    "from ibis.tests.backends import MapD\n",
    "\n",
    "import ibis\n",
    "import math\n",
    "import numpy as np\n",
    "import pandas as pd\n",
    "\n",
    "ibis.options.interactive = False"
   ]
  },
  {
   "cell_type": "code",
   "execution_count": 2,
   "metadata": {},
   "outputs": [],
   "source": [
    "mapd_cli = ibis.mapd.connect(\n",
    "    host='localhost', user='mapd', password='HyperInteractive',\n",
    "    port=9091, database='ibis_testing'\n",
    ")\n",
    "backend = MapD(None)"
   ]
  },
  {
   "cell_type": "code",
   "execution_count": 3,
   "metadata": {},
   "outputs": [],
   "source": [
    "def param(ibis_fn, pandas_fn, id, skip=False):\n",
    "    if skip:\n",
    "        return None, None, None\n",
    "    return ibis_fn, pandas_fn, id"
   ]
  },
  {
   "cell_type": "code",
   "execution_count": 4,
   "metadata": {},
   "outputs": [],
   "source": [
    "alltypes = mapd_cli.database().functional_alltypes\n",
    "df = alltypes.execute()"
   ]
  },
  {
   "cell_type": "code",
   "execution_count": 5,
   "metadata": {},
   "outputs": [
    {
     "name": "stdout",
     "output_type": "stream",
     "text": [
      "year ... UnsupportedOperationError\n",
      "month ... UnsupportedOperationError\n",
      "day ... UnsupportedOperationError\n"
     ]
    }
   ],
   "source": [
    "tests_1_attr = [\n",
    "    'year', 'month', 'day',\n",
    "]\n",
    "for attr in tests_1_attr:\n",
    "    try:\n",
    "        print('{} ... '.format(attr), end='')\n",
    "        expr = getattr(alltypes.timestamp_col.date(), attr)()\n",
    "        expected = getattr(df.timestamp_col.dt, attr).astype('int32')\n",
    "\n",
    "        result = expr.execute()\n",
    "        expected = backend.default_series_rename(expected)\n",
    "\n",
    "        backend.assert_series_equal(result, expected)\n",
    "        print('OK!')\n",
    "    except ibis.common.UnsupportedOperationError as e:\n",
    "            print('UnsupportedOperationError')"
   ]
  },
  {
   "cell_type": "code",
   "execution_count": 6,
   "metadata": {},
   "outputs": [
    {
     "name": "stdout",
     "output_type": "stream",
     "text": [
      "year ... OK!\n",
      "month ... OK!\n",
      "day ... OK!\n",
      "hour ... OK!\n",
      "minute ... OK!\n",
      "second ... OK!\n"
     ]
    }
   ],
   "source": [
    "tests_2_attr = [\n",
    "    'year', 'month', 'day',\n",
    "    'hour', 'minute', 'second'\n",
    "]\n",
    "\n",
    "for attr in tests_2_attr:\n",
    "    try:\n",
    "        print('{} ... '.format(attr), end='')\n",
    "        expr = getattr(alltypes.timestamp_col, attr)()\n",
    "        expected = getattr(df.timestamp_col.dt, attr).astype('int32')\n",
    "\n",
    "        result = expr.execute()\n",
    "        expected = backend.default_series_rename(expected)\n",
    "\n",
    "        backend.assert_series_equal(result, expected)\n",
    "        print('OK!')\n",
    "    except ibis.common.UnsupportedOperationError as e:\n",
    "            print('UnsupportedOperationError')"
   ]
  },
  {
   "cell_type": "code",
   "execution_count": 7,
   "metadata": {},
   "outputs": [
    {
     "name": "stdout",
     "output_type": "stream",
     "text": [
      "Y ... OK!\n",
      "M ... OK!\n",
      "D ... OK!\n",
      "W ... FAILED EXPECTED!\n",
      "h ... OK!\n",
      "m ... OK!\n",
      "s ... OK!\n",
      "ms ... OK!\n",
      "us ... OK!\n",
      "ns ... FAILED EXPECTED!\n"
     ]
    }
   ],
   "source": [
    "tests_3_unit = [\n",
    "    'Y', 'M', 'D', 'W',\n",
    "    'h', 'm', 's', 'ms', 'us', 'ns'\n",
    "]\n",
    "\n",
    "for unit in tests_3_unit:\n",
    "    try:\n",
    "        print('{} ... '.format(unit), end='')\n",
    "        expr = alltypes.timestamp_col.truncate(unit)\n",
    "\n",
    "        dtype = 'datetime64[{}]'.format(unit)\n",
    "        expected = pd.Series(df.timestamp_col.values.astype(dtype))\n",
    "\n",
    "        result = expr.execute()\n",
    "        expected = backend.default_series_rename(expected)\n",
    "\n",
    "        backend.assert_series_equal(result, expected)\n",
    "        print('OK!')\n",
    "    except ibis.common.UnsupportedOperationError as e:\n",
    "        print('UnsupportedOperationError')\n",
    "    except Exception as e:\n",
    "        if unit in ['W', 'ns']:\n",
    "            print('FAILED EXPECTED!')\n",
    "        else:\n",
    "            print('FAIL', e)"
   ]
  },
  {
   "cell_type": "code",
   "execution_count": 8,
   "metadata": {},
   "outputs": [
    {
     "name": "stdout",
     "output_type": "stream",
     "text": [
      "Y ... UnsupportedOperationError\n",
      "M ... UnsupportedOperationError\n",
      "D ... UnsupportedOperationError\n",
      "W ... UnsupportedOperationError\n"
     ]
    }
   ],
   "source": [
    "tests_4_unit = ['Y', 'M', 'D', 'W']\n",
    "\n",
    "for unit in tests_4_unit:\n",
    "    try:\n",
    "        print('{} ... '.format(unit), end='')\n",
    "        expr = alltypes.timestamp_col.date().truncate(unit)\n",
    "\n",
    "        dtype = 'datetime64[{}]'.format(unit)\n",
    "        expected = pd.Series(df.timestamp_col.values.astype(dtype))\n",
    "\n",
    "        result = expr.execute()\n",
    "        expected = backend.default_series_rename(expected)\n",
    "\n",
    "        backend.assert_series_equal(result, expected)\n",
    "        print('OK!')\n",
    "    except ibis.common.UnsupportedOperationError as e:\n",
    "        print('UnsupportedOperationError')\n",
    "    except Exception as e:\n",
    "        if unit in ['W', 'ns']:\n",
    "            print('FAILED EXPECTED!')\n",
    "        else:\n",
    "            print('FAIL', e)"
   ]
  },
  {
   "cell_type": "code",
   "execution_count": 9,
   "metadata": {},
   "outputs": [
    {
     "name": "stdout",
     "output_type": "stream",
     "text": [
      "Y ... "
     ]
    },
    {
     "name": "stderr",
     "output_type": "stream",
     "text": [
      "/home/xmn/miniconda3/envs/ibis/lib/python3.6/site-packages/pandas/core/ops.py:556: PerformanceWarning: Adding/subtracting array of DateOffsets to Series not vectorized\n",
      "  \"Series not vectorized\", PerformanceWarning)\n"
     ]
    },
    {
     "name": "stdout",
     "output_type": "stream",
     "text": [
      "OK!\n",
      "Q ... FAIL EXPECTED!\n",
      "M ... "
     ]
    },
    {
     "name": "stderr",
     "output_type": "stream",
     "text": [
      "/home/xmn/miniconda3/envs/ibis/lib/python3.6/site-packages/pandas/core/ops.py:556: PerformanceWarning: Adding/subtracting array of DateOffsets to Series not vectorized\n",
      "  \"Series not vectorized\", PerformanceWarning)\n"
     ]
    },
    {
     "name": "stdout",
     "output_type": "stream",
     "text": [
      "OK!\n",
      "W ... OK!\n",
      "D ... OK!\n",
      "h ... OK!\n",
      "m ... OK!\n",
      "s ... OK!\n",
      "ms ... UnsupportedOperationError\n",
      "us ... UnsupportedOperationError\n"
     ]
    }
   ],
   "source": [
    "tests_5_unit = [\n",
    "    'Y', 'Q', 'M', 'W', 'D', 'h', 'm', 's', 'ms', 'us'\n",
    "]\n",
    "for unit in tests_5_unit:\n",
    "    try:\n",
    "        print('{} ... '.format(unit), end='')\n",
    "        interval = alltypes.int_col.to_interval(unit=unit)\n",
    "        expr = alltypes.timestamp_col + interval\n",
    "        result = mapd_cli.execute(expr)\n",
    "\n",
    "        def convert_to_offset(x):\n",
    "            resolution = '{}s'.format(interval.type().resolution)\n",
    "            return pd.offsets.DateOffset(**{resolution: x})\n",
    "\n",
    "        offset = df.int_col.apply(convert_to_offset)\n",
    "        expected = df.timestamp_col + offset\n",
    "        expected = backend.default_series_rename(expected)\n",
    "\n",
    "        backend.assert_series_equal(result, expected)\n",
    "        print('OK!')\n",
    "    except ibis.common.UnsupportedOperationError as e:\n",
    "        print('UnsupportedOperationError')\n",
    "    except Exception as e:\n",
    "        if unit in ['Q']:\n",
    "            print('FAIL EXPECTED!')\n",
    "        else:\n",
    "            print(e)"
   ]
  },
  {
   "cell_type": "code",
   "execution_count": 10,
   "metadata": {},
   "outputs": [
    {
     "name": "stdout",
     "output_type": "stream",
     "text": [
      "Y ... UnsupportedOperationError\n",
      "Q ... UnsupportedOperationError\n",
      "M ... UnsupportedOperationError\n",
      "W ... UnsupportedOperationError\n",
      "D ... UnsupportedOperationError\n"
     ]
    }
   ],
   "source": [
    "tests_6_unit = ['Y', 'Q', 'M', 'W', 'D']\n",
    "\n",
    "for unit in tests_6_unit:\n",
    "    try:\n",
    "        print('{} ... '.format(unit), end='')\n",
    "        interval = alltypes.int_col.to_interval(unit=unit)\n",
    "        array = alltypes.date_string_col.split('/')\n",
    "        month, day, year = array[0], array[1], array[2]\n",
    "        date_col = expr = ibis.literal('-').join([\n",
    "            '20' + year, month, day\n",
    "        ]).cast('date')\n",
    "        expr = date_col + interval\n",
    "        result = mapd_cli.execute(expr)\n",
    "\n",
    "        def convert_to_offset(x):\n",
    "            resolution = '{}s'.format(interval.type().resolution)\n",
    "            return pd.offsets.DateOffset(**{resolution: x})\n",
    "\n",
    "        offset = df.int_col.apply(convert_to_offset)\n",
    "        expected = pd.to_datetime(df.date_string_col) + offset\n",
    "        expected = backend.default_series_rename(expected)\n",
    "\n",
    "        backend.assert_series_equal(result, expected)\n",
    "        print('OK!')\n",
    "    except ibis.common.UnsupportedOperationError as e:\n",
    "        print('UnsupportedOperationError')\n",
    "    except Exception as e:\n",
    "        if unit in ['Q']:\n",
    "            print('FAIL EXPECTED!')\n",
    "        else:\n",
    "            print(e)"
   ]
  },
  {
   "cell_type": "code",
   "execution_count": 11,
   "metadata": {},
   "outputs": [
    {
     "name": "stdout",
     "output_type": "stream",
     "text": [
      "h ... unsupported operand type(s) for +: 'DateColumn' and 'IntervalColumn'\n",
      "m ... unsupported operand type(s) for +: 'DateColumn' and 'IntervalColumn'\n",
      "s ... unsupported operand type(s) for +: 'DateColumn' and 'IntervalColumn'\n",
      "ms ... unsupported operand type(s) for +: 'DateColumn' and 'IntervalColumn'\n",
      "us ... unsupported operand type(s) for +: 'DateColumn' and 'IntervalColumn'\n"
     ]
    }
   ],
   "source": [
    "tests_7_unit = ['h', 'm', 's', 'ms', 'us']\n",
    "for unit in tests_7_unit:\n",
    "    try:\n",
    "        print('{} ... '.format(unit), end='')\n",
    "        interval = alltypes.int_col.to_interval(unit=unit)\n",
    "        array = alltypes.date_string_col.split('/')\n",
    "        month, day, year = array[0], array[1], array[2]\n",
    "        date_col = ibis.literal('-').join(['20' + year, month, day]).cast('date')\n",
    "        date_col + interval\n",
    "        print('OK!')\n",
    "    except ibis.common.UnsupportedOperationError as e:\n",
    "        print('UnsupportedOperationError')\n",
    "    except Exception as e:\n",
    "        if unit in ['Q']:\n",
    "            print('FAIL EXPECTED!')\n",
    "        else:\n",
    "            print(e)"
   ]
  },
  {
   "cell_type": "code",
   "execution_count": 12,
   "metadata": {},
   "outputs": [
    {
     "name": "stdout",
     "output_type": "stream",
     "text": [
      "timestamp-add-interval ... OK!\n",
      "timestamp-subtract-interval ... OK!\n",
      "date-add-interval ... UnsupportedOperationError\n",
      "date-subtract-interval ... UnsupportedOperationError\n",
      "timestamp-subtract-timestamp ... UnsupportedOperationError\n",
      "date-subtract-date ... UnsupportedOperationError\n"
     ]
    }
   ],
   "source": [
    "date_value = pd.Timestamp('2017-12-31')\n",
    "timestamp_value = pd.Timestamp('2018-01-01 18:18:18')\n",
    "\n",
    "\n",
    "tests_8 = [\n",
    "    param(lambda t, be: t.timestamp_col + ibis.interval(days=4),\n",
    "          lambda t, be: t.timestamp_col + pd.Timedelta(days=4),\n",
    "          id='timestamp-add-interval'),\n",
    "    param(lambda t, be: t.timestamp_col - ibis.interval(days=17),\n",
    "          lambda t, be: t.timestamp_col - pd.Timedelta(days=17),\n",
    "          id='timestamp-subtract-interval'),\n",
    "    param(lambda t, be: t.timestamp_col.date() + ibis.interval(days=4),\n",
    "          lambda t, be: t.timestamp_col.dt.floor('d') + pd.Timedelta(days=4),\n",
    "          id='date-add-interval'),\n",
    "    param(lambda t, be: t.timestamp_col.date() - ibis.interval(days=14),\n",
    "          lambda t, be: t.timestamp_col.dt.floor('d') - pd.Timedelta(days=14),\n",
    "          id='date-subtract-interval'),\n",
    "    param(lambda t, be: t.timestamp_col - ibis.timestamp(timestamp_value),\n",
    "          lambda t, be: pd.Series(\n",
    "            t.timestamp_col.sub(timestamp_value).values.astype(\n",
    "                'timedelta64[{}]'.format(be.returned_timestamp_unit))),\n",
    "          id='timestamp-subtract-timestamp'),\n",
    "    param(lambda t, be: t.timestamp_col.date() - ibis.date(date_value),\n",
    "          lambda t, be: t.timestamp_col.dt.floor('d') - date_value,\n",
    "          id='date-subtract-date'),\n",
    "]\n",
    "\n",
    "for expr_fn, expected_fn, test_id in tests_8:\n",
    "    try:\n",
    "        print('{} ... '.format(test_id), end='')\n",
    "        expr = expr_fn(alltypes, backend)\n",
    "        expected = expected_fn(df, backend)\n",
    "\n",
    "        result = mapd_cli.execute(expr)\n",
    "        expected = backend.default_series_rename(expected)\n",
    "\n",
    "        backend.assert_series_equal(result, expected)\n",
    "        print('OK!')\n",
    "    except ibis.common.UnsupportedOperationError as e:\n",
    "        print('UnsupportedOperationError')\n",
    "    except Exception as e:\n",
    "        if unit in ['Q']:\n",
    "            print('FAIL EXPECTED!')\n",
    "        else:\n",
    "            print('FAIL', e)"
   ]
  }
 ],
 "metadata": {
  "kernelspec": {
   "display_name": "Python 3",
   "language": "python",
   "name": "python3"
  },
  "language_info": {
   "codemirror_mode": {
    "name": "ipython",
    "version": 3
   },
   "file_extension": ".py",
   "mimetype": "text/x-python",
   "name": "python",
   "nbconvert_exporter": "python",
   "pygments_lexer": "ipython3",
   "version": "3.6.5"
  }
 },
 "nbformat": 4,
 "nbformat_minor": 2
}
