{
 "cells": [
  {
   "cell_type": "markdown",
   "metadata": {},
   "source": [
    "# Ibis MapD Backend - Test Generic"
   ]
  },
  {
   "cell_type": "code",
   "execution_count": 1,
   "metadata": {},
   "outputs": [],
   "source": [
    "from ibis import literal as L\n",
    "\n",
    "import ibis\n",
    "import numpy as np\n",
    "ibis.options.interactive = False"
   ]
  },
  {
   "cell_type": "code",
   "execution_count": 2,
   "metadata": {},
   "outputs": [],
   "source": [
    "mapd_cli = ibis.mapd.connect(\n",
    "    host='localhost', user='mapd', password='HyperInteractive',\n",
    "    port=9091, database='ibis_testing'\n",
    ")"
   ]
  },
  {
   "cell_type": "code",
   "execution_count": 3,
   "metadata": {},
   "outputs": [],
   "source": [
    "alltypes = mapd_cli.database().functional_alltypes\n",
    "df = alltypes.execute()\n",
    "\n",
    "ibis_cond = lambda t: t.string_col.isin(['1', '7'])\n",
    "pandas_cond = lambda t: t.string_col.isin(['1', '7'])"
   ]
  },
  {
   "cell_type": "code",
   "execution_count": 4,
   "metadata": {},
   "outputs": [],
   "source": [
    "def param(ibis_fn, pandas_fn, id, skip=False):\n",
    "    if skip:\n",
    "        return None, None, None\n",
    "    return ibis_fn, pandas_fn, id"
   ]
  },
  {
   "cell_type": "code",
   "execution_count": 5,
   "metadata": {},
   "outputs": [],
   "source": [
    "tests_1 = (\n",
    "    param(ibis.NA.fillna(5), 5, id='ibis.NA.fillna'),\n",
    "    param(L(5).fillna(10), 5, id='L(5).fillna(10)'),\n",
    "    param(L(5).nullif(5), None, id='L(5).nullif(5)'),\n",
    "    param(L(10).nullif(5), 10, id='L(10).nullif(5)'),\n",
    ")"
   ]
  },
  {
   "cell_type": "code",
   "execution_count": 15,
   "metadata": {},
   "outputs": [
    {
     "name": "stdout",
     "output_type": "stream",
     "text": [
      "TEST #1\n",
      "ibis.NA.fillna ... UnsupportedOperationError!\n",
      "L(5).fillna(10) ... UnsupportedOperationError!\n",
      "L(5).nullif(5) ... UnsupportedOperationError!\n",
      "L(10).nullif(5) ... UnsupportedOperationError!\n"
     ]
    }
   ],
   "source": [
    "print('TEST #1')\n",
    "for expr, expected, id_test in tests_1:\n",
    "    try:\n",
    "        print('{} ... '.format(id_test), end='')\n",
    "        assert mapd_cli.execute(expr) == expected\n",
    "        print('OK!')\n",
    "    except ibis.common.UnsupportedOperationError as e:\n",
    "        print('UnsupportedOperationError!')"
   ]
  },
  {
   "cell_type": "code",
   "execution_count": 16,
   "metadata": {},
   "outputs": [],
   "source": [
    "tests_2 = (\n",
    "    param(ibis.coalesce(5, None, 4), 5, id='ibis.coalesce(5, None, 4)'),\n",
    "    param(ibis.coalesce(ibis.NA, 4, ibis.NA), 4, id='ibis.coalesce(ibis.NA, 4, ibis.NA)'),\n",
    "    param(ibis.coalesce(ibis.NA, ibis.NA, 3.14), 3.14, id='ibis.coalesce(ibis.NA, ibis.NA, 3.14)'),\n",
    ")"
   ]
  },
  {
   "cell_type": "code",
   "execution_count": 18,
   "metadata": {},
   "outputs": [
    {
     "name": "stdout",
     "output_type": "stream",
     "text": [
      "TEST #2\n",
      "ibis.coalesce(5, None, 4) ... UnsupportedOperationError!\n",
      "ibis.coalesce(ibis.NA, 4, ibis.NA) ... UnsupportedOperationError!\n",
      "ibis.coalesce(ibis.NA, ibis.NA, 3.14) ... UnsupportedOperationError!\n"
     ]
    }
   ],
   "source": [
    "print('TEST #2')\n",
    "for expr, expected, id_test in tests_2:\n",
    "    try:\n",
    "        print('{} ... '.format(id_test), end='')\n",
    "        assert mapd_cli.execute(expr) == expected\n",
    "        print('OK!')\n",
    "    except ibis.common.UnsupportedOperationError as e:\n",
    "        print('UnsupportedOperationError!')"
   ]
  }
 ],
 "metadata": {
  "kernelspec": {
   "display_name": "Python 3",
   "language": "python",
   "name": "python3"
  },
  "language_info": {
   "codemirror_mode": {
    "name": "ipython",
    "version": 3
   },
   "file_extension": ".py",
   "mimetype": "text/x-python",
   "name": "python",
   "nbconvert_exporter": "python",
   "pygments_lexer": "ipython3",
   "version": "3.6.5"
  }
 },
 "nbformat": 4,
 "nbformat_minor": 2
}
