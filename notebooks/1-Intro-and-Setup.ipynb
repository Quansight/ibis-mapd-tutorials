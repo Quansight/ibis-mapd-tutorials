{
 "cells": [
  {
   "cell_type": "markdown",
   "metadata": {},
   "source": [
    "# PyMapD intro and Setup"
   ]
  },
  {
   "cell_type": "markdown",
   "metadata": {},
   "source": [
    "This tutorial is based on https://github.com/ibis-project/ibis/tree/master/docs/source/notebooks/tutorial"
   ]
  },
  {
   "cell_type": "markdown",
   "metadata": {},
   "source": [
    "## Getting started"
   ]
  },
  {
   "cell_type": "markdown",
   "metadata": {},
   "source": [
    "You're going to want to make sure you can import `ibis`"
   ]
  },
  {
   "cell_type": "code",
   "execution_count": 1,
   "metadata": {},
   "outputs": [],
   "source": [
    "import ibis"
   ]
  },
  {
   "cell_type": "markdown",
   "metadata": {},
   "source": [
    "To connect to a `MapD` database, use `connect` method from `ibis.mapd` module.  The example below connects to a MapD server running on the lcoal host.\n",
    "\n",
    "    con = ibis.mapd.connect(\n",
    "        host='localhost', user='mapd', password='HyperInteractive',\n",
    "        port=9091, dbname='mapd'\n",
    "    )"
   ]
  },
  {
   "cell_type": "markdown",
   "metadata": {},
   "source": [
    "## Connect to the [MapD Vega Demo](http://vega-demo.mapd.com/#/)"
   ]
  },
  {
   "cell_type": "code",
   "execution_count": 2,
   "metadata": {},
   "outputs": [],
   "source": [
    "from hosts import hosts\n",
    "con = ibis.mapd.connect(**hosts['vega-demo'])"
   ]
  },
  {
   "cell_type": "markdown",
   "metadata": {},
   "source": [
    "Obviously, substitute the parameters that are appropriate for your environment (see docstring or inspector for `ibis.mapd.connect`). `mapd.connect` uses the same parameters as pymapd's (https://pypi.python.org/pypi/pymapd) DBAPI interface.\n",
    "\n",
    "![](https://user-images.githubusercontent.com/4236275/39279974-5f1749ca-48ca-11e8-8051-ef0e0aadc5e0.png)"
   ]
  }
 ],
 "metadata": {
  "kernelspec": {
   "display_name": "p6",
   "language": "python",
   "name": "other-env"
  },
  "language_info": {
   "codemirror_mode": {
    "name": "ipython",
    "version": 3
   },
   "file_extension": ".py",
   "mimetype": "text/x-python",
   "name": "python",
   "nbconvert_exporter": "python",
   "pygments_lexer": "ipython3",
   "version": "3.6.3"
  }
 },
 "nbformat": 4,
 "nbformat_minor": 2
}
